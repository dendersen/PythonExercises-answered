{
 "cells": [
  {
   "cell_type": "markdown",
   "metadata": {},
   "source": [
    "# Opg 31"
   ]
  },
  {
   "cell_type": "code",
   "execution_count": 2,
   "metadata": {},
   "outputs": [
    {
     "name": "stdout",
     "output_type": "stream",
     "text": [
      "[2, 2, 1]\n",
      "1\n"
     ]
    }
   ],
   "source": [
    "from random import randint\n",
    "arr = [randint(1,3) for i in range(3)]\n",
    "print(arr)\n",
    "print(min(arr))"
   ]
  },
  {
   "cell_type": "markdown",
   "metadata": {},
   "source": [
    "# Opg 32"
   ]
  },
  {
   "cell_type": "code",
   "execution_count": null,
   "metadata": {},
   "outputs": [],
   "source": [
    "i = 0\n",
    "while i < 6:\n",
    "  i += 1\n",
    "  if i == 3:\n",
    "    continue\n",
    "  print(i)\n",
    "  if(i == 5):\n",
    "    break\n"
   ]
  },
  {
   "cell_type": "markdown",
   "metadata": {},
   "source": [
    "# Opg 33"
   ]
  },
  {
   "cell_type": "code",
   "execution_count": null,
   "metadata": {},
   "outputs": [],
   "source": [
    "fruits = [\"apple\", \"banana\", \"cherry\"]\n",
    "fruits.append(\"orange\")\n",
    "fruits.insert(0, \"lemon\")"
   ]
  },
  {
   "cell_type": "markdown",
   "metadata": {},
   "source": [
    "# Opg 34"
   ]
  },
  {
   "cell_type": "code",
   "execution_count": null,
   "metadata": {},
   "outputs": [],
   "source": [
    "my_list = [3, 1, 4, 1, 5, 9, 2, 6, 5]\n",
    "print(\"Original:\\t\", my_list)\n",
    "\n",
    "my_list.append(3)\n",
    "print(\"After append:\\t\", my_list)\n",
    "\n",
    "my_list.remove(1)\n",
    "print(\"After remove:\\t\", my_list)\n",
    "\n",
    "my_list.sort()\n",
    "print(\"After sort:\\t\", my_list)"
   ]
  },
  {
   "cell_type": "markdown",
   "metadata": {},
   "source": [
    "# Opg 35"
   ]
  },
  {
   "cell_type": "code",
   "execution_count": null,
   "metadata": {},
   "outputs": [],
   "source": [
    "my_string = \"hello world! hello everyone!\"\n",
    "print(\"Original:\\t\\t\", my_string)\n",
    "\n",
    "capitalized_string = my_string.capitalize()\n",
    "print(\"After capitalize:\\t\", capitalized_string)\n",
    "\n",
    "count_hello = my_string.count(\"hello\")\n",
    "print(\"Count of 'hello':\\t\", count_hello)\n",
    "\n",
    "replaced_string = my_string.replace(\"hello\", \"hi\")\n",
    "print(\"After replace:\\t\\t\", replaced_string)"
   ]
  }
 ],
 "metadata": {
  "kernelspec": {
   "display_name": "base",
   "language": "python",
   "name": "python3"
  },
  "language_info": {
   "codemirror_mode": {
    "name": "ipython",
    "version": 3
   },
   "file_extension": ".py",
   "mimetype": "text/x-python",
   "name": "python",
   "nbconvert_exporter": "python",
   "pygments_lexer": "ipython3",
   "version": "3.9.13"
  }
 },
 "nbformat": 4,
 "nbformat_minor": 2
}
