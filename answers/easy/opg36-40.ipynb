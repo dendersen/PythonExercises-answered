{
 "cells": [
  {
   "cell_type": "markdown",
   "metadata": {},
   "source": [
    "# Opg 36"
   ]
  },
  {
   "cell_type": "code",
   "execution_count": 1,
   "metadata": {},
   "outputs": [
    {
     "name": "stdout",
     "output_type": "stream",
     "text": [
      "Variable: 123.45\n",
      "Only digits: False\n",
      "Only alphabetic characters: False\n",
      "Decimal number: True\n"
     ]
    }
   ],
   "source": [
    "variable = \"123.45\"\n",
    "print(\"Variable:\", variable)\n",
    "\n",
    "is_digit = variable.isdigit()\n",
    "print(\"Only digits:\", is_digit)\n",
    "\n",
    "is_alpha = variable.isalpha()\n",
    "print(\"Only alphabetic characters:\", is_alpha)\n",
    "\n",
    "is_decimal = variable.replace('.', '', 1).isdigit() and variable.count('.') < 2\n",
    "print(\"Decimal number:\", is_decimal)"
   ]
  },
  {
   "cell_type": "markdown",
   "metadata": {},
   "source": [
    "# Opg 37"
   ]
  },
  {
   "cell_type": "code",
   "execution_count": null,
   "metadata": {},
   "outputs": [],
   "source": [
    "numbers = {\n",
    "  \"Ten\": 10,\n",
    "  \"Twenty\": 20,\n",
    "  \"Thirty\": 30\n",
    "}\n",
    "\n",
    "value = numbers.get(\"Thirty\")\n",
    "print(value)"
   ]
  },
  {
   "cell_type": "markdown",
   "metadata": {},
   "source": [
    "# Opg 38"
   ]
  },
  {
   "cell_type": "code",
   "execution_count": null,
   "metadata": {},
   "outputs": [],
   "source": []
  },
  {
   "cell_type": "markdown",
   "metadata": {},
   "source": [
    "# Opg 39"
   ]
  },
  {
   "cell_type": "code",
   "execution_count": null,
   "metadata": {},
   "outputs": [],
   "source": []
  },
  {
   "cell_type": "markdown",
   "metadata": {},
   "source": [
    "# Opg 40"
   ]
  },
  {
   "cell_type": "code",
   "execution_count": null,
   "metadata": {},
   "outputs": [],
   "source": []
  }
 ],
 "metadata": {
  "kernelspec": {
   "display_name": "base",
   "language": "python",
   "name": "python3"
  },
  "language_info": {
   "codemirror_mode": {
    "name": "ipython",
    "version": 3
   },
   "file_extension": ".py",
   "mimetype": "text/x-python",
   "name": "python",
   "nbconvert_exporter": "python",
   "pygments_lexer": "ipython3",
   "version": "3.9.13"
  }
 },
 "nbformat": 4,
 "nbformat_minor": 2
}
