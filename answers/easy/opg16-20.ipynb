{
 "cells": [
  {
   "cell_type": "markdown",
   "metadata": {},
   "source": [
    "# opg 16"
   ]
  },
  {
   "cell_type": "code",
   "execution_count": null,
   "metadata": {},
   "outputs": [],
   "source": [
    "def addNums(arr:list=[],top:int=100)->None:\n",
    "  for i in range (0,top):\n",
    "    arr.append(i)"
   ]
  },
  {
   "cell_type": "markdown",
   "metadata": {},
   "source": [
    "# opg 17"
   ]
  },
  {
   "cell_type": "code",
   "execution_count": null,
   "metadata": {},
   "outputs": [],
   "source": [
    "def length(arr1:list=[],arr2:list=[])->int:\n",
    "  return f\"{len(arr2)}, {len(arr1)}\""
   ]
  },
  {
   "cell_type": "markdown",
   "metadata": {},
   "source": [
    "# opg 18"
   ]
  },
  {
   "cell_type": "code",
   "execution_count": null,
   "metadata": {},
   "outputs": [],
   "source": [
    "def same(arr1:list=[],arr2:list=[])->bool:\n",
    "  if(len(arr1)!=len(arr2)):\n",
    "    return False\n",
    "  for i in range(0,len(arr1)):\n",
    "    if(arr1[i]!=arr2[i]):\n",
    "      return False\n",
    "  return True"
   ]
  },
  {
   "cell_type": "markdown",
   "metadata": {},
   "source": [
    "# opg 19"
   ]
  },
  {
   "cell_type": "code",
   "execution_count": null,
   "metadata": {},
   "outputs": [],
   "source": [
    "import math\n",
    "def tables(start:int=1,end:int=10)->list:\n",
    "  width:int = int(math.ceil(math.log10(end*end)))+1\n",
    "  print(end=\"|\")\n",
    "  for j in range(1,end+1):\n",
    "    print(\"-\"*width,end=\"|\")\n",
    "  print()\n",
    "  for i in range(start,end+1):\n",
    "    print(end=\"|\")\n",
    "    for j in range(1,end+1):\n",
    "      num = i*j\n",
    "      print(str(num).rjust(width),end=\"|\")\n",
    "    print(end=\"\\n|\")\n",
    "    for j in range(1,end+1):\n",
    "      print(\"-\"*width,end=\"|\")\n",
    "    print()"
   ]
  },
  {
   "cell_type": "markdown",
   "metadata": {},
   "source": [
    "# opg 20"
   ]
  },
  {
   "cell_type": "code",
   "execution_count": 30,
   "metadata": {},
   "outputs": [],
   "source": [
    "def stars(n:int=5)->None:\n",
    "  for i in range(n,0,-1):\n",
    "    print(\"*\"*i)"
   ]
  }
 ],
 "metadata": {
  "kernelspec": {
   "display_name": "base",
   "language": "python",
   "name": "python3"
  },
  "language_info": {
   "codemirror_mode": {
    "name": "ipython",
    "version": 3
   },
   "file_extension": ".py",
   "mimetype": "text/x-python",
   "name": "python",
   "nbconvert_exporter": "python",
   "pygments_lexer": "ipython3",
   "version": "3.9.13"
  }
 },
 "nbformat": 4,
 "nbformat_minor": 2
}
