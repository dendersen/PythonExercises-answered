{
 "cells": [
  {
   "cell_type": "markdown",
   "metadata": {},
   "source": [
    "# opg 6"
   ]
  },
  {
   "cell_type": "code",
   "execution_count": null,
   "metadata": {},
   "outputs": [],
   "source": [
    "r = 'a'\n",
    "print(\"er tallet lige?\")\n",
    "while(1):\n",
    "  r = input(\"tal: \")\n",
    "  try:\n",
    "    r = int(r)\n",
    "    break\n",
    "  except:\n",
    "    print(\"Indtast et heltal\")\n",
    "print(f\"tallet {r} er {\"lige\" if r%2==0 else \"ulige\"}\")"
   ]
  },
  {
   "cell_type": "code",
   "execution_count": 9,
   "metadata": {},
   "outputs": [
    {
     "ename": "SyntaxError",
     "evalue": "f-string: expecting '}' (4181116623.py, line 2)",
     "output_type": "error",
     "traceback": [
      "\u001b[1;36m  File \u001b[1;32m\"C:\\Users\\dende\\AppData\\Local\\Temp\\ipykernel_24812\\4181116623.py\"\u001b[1;36m, line \u001b[1;32m2\u001b[0m\n\u001b[1;33m    print(f\"tallet {n} er { if n%2==0 \"lige\" else \"ulige\"}\")\u001b[0m\n\u001b[1;37m                                       ^\u001b[0m\n\u001b[1;31mSyntaxError\u001b[0m\u001b[1;31m:\u001b[0m f-string: expecting '}'\n"
     ]
    }
   ],
   "source": [
    "def isEven(n):\n",
    "  print(f\"tallet {n} er { if (n%2==0) \"lige\" else \"ulige\"}\")\n",
    "  return n%2==0"
   ]
  },
  {
   "cell_type": "markdown",
   "metadata": {},
   "source": [
    "# opg 7"
   ]
  },
  {
   "cell_type": "code",
   "execution_count": null,
   "metadata": {},
   "outputs": [],
   "source": [
    "for i in range(1, 11):\n",
    "  print(i)"
   ]
  },
  {
   "cell_type": "code",
   "execution_count": 6,
   "metadata": {},
   "outputs": [],
   "source": [
    "def printOneToTen():\n",
    "  for i in range(1, 11):\n",
    "    print(i)"
   ]
  },
  {
   "cell_type": "markdown",
   "metadata": {},
   "source": [
    "# opg 8"
   ]
  },
  {
   "cell_type": "code",
   "execution_count": null,
   "metadata": {},
   "outputs": [],
   "source": [
    "x = 1\n",
    "while x <= 100:\n",
    "  if(x % 2 == 0):\n",
    "    print (f\"{x}, \", end=\"\")\n",
    "  x += 1\n",
    "print()"
   ]
  },
  {
   "cell_type": "code",
   "execution_count": 5,
   "metadata": {},
   "outputs": [],
   "source": [
    "def printEvenNumbers():\n",
    "  x = 1\n",
    "  while x <= 100:\n",
    "    if(i % 2 == 0):\n",
    "      print(i, end=\", \")\n",
    "  print()"
   ]
  },
  {
   "cell_type": "markdown",
   "metadata": {},
   "source": [
    "# opg 9"
   ]
  },
  {
   "cell_type": "code",
   "execution_count": null,
   "metadata": {},
   "outputs": [],
   "source": [
    "x = 1\n",
    "nums = []\n",
    "while x <= 100:\n",
    "  if(x % 2 == 0):\n",
    "    nums.append(x)\n",
    "  x += 1\n",
    "\n",
    "print(sum(nums))"
   ]
  },
  {
   "cell_type": "code",
   "execution_count": 4,
   "metadata": {},
   "outputs": [],
   "source": [
    "def sumEvenNumbers(max: int = 100):\n",
    "  x = 1\n",
    "  nums = []\n",
    "  while x <= max:\n",
    "    if(x % 2 == 0):\n",
    "      nums.append(x)\n",
    "    x += 1\n",
    "  return sum(nums)"
   ]
  },
  {
   "cell_type": "markdown",
   "metadata": {},
   "source": [
    "# opg 10"
   ]
  },
  {
   "cell_type": "code",
   "execution_count": null,
   "metadata": {},
   "outputs": [],
   "source": [
    "r = 'a'\n",
    "index = 0\n",
    "vars = []\n",
    "while(1):\n",
    "  r = input(\"tal: \")\n",
    "  try:\n",
    "    r = float(r)\n",
    "    if(index < 2):\n",
    "      vars.append(r)\n",
    "      index += 1\n",
    "    else: \n",
    "      break\n",
    "  except:\n",
    "    print(\"Indtast et tal\")\n",
    "\n",
    "print(f\"de to tal {vars[0]} og {vars[1]} har {if vars[0] == vars[1] else \"ikke\"} samme værdi\")"
   ]
  },
  {
   "cell_type": "code",
   "execution_count": 3,
   "metadata": {},
   "outputs": [],
   "source": [
    "def same(var1, var2):\n",
    "  return (var1 == var2)"
   ]
  }
 ],
 "metadata": {
  "kernelspec": {
   "display_name": "base",
   "language": "python",
   "name": "python3"
  },
  "language_info": {
   "codemirror_mode": {
    "name": "ipython",
    "version": 3
   },
   "file_extension": ".py",
   "mimetype": "text/x-python",
   "name": "python",
   "nbconvert_exporter": "python",
   "pygments_lexer": "ipython3",
   "version": "3.9.13"
  }
 },
 "nbformat": 4,
 "nbformat_minor": 2
}
