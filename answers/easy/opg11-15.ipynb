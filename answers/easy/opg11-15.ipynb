{
 "cells": [
  {
   "cell_type": "markdown",
   "metadata": {},
   "source": [
    "# opg 11"
   ]
  },
  {
   "cell_type": "code",
   "execution_count": null,
   "metadata": {},
   "outputs": [],
   "source": [
    "r = 'a'\n",
    "index = 0\n",
    "nums = [0,0]\n",
    "while(1):\n",
    "  r = input(\"tal: \")\n",
    "  try:\n",
    "    r = float(r)\n",
    "    if(index < 2):\n",
    "      nums[index] = float(r)\n",
    "      index += 1\n",
    "  except:\n",
    "    print(\"Indtast et tal\")\n",
    "\n",
    "print((x+y)*(x-y))"
   ]
  },
  {
   "cell_type": "code",
   "execution_count": 7,
   "metadata": {},
   "outputs": [],
   "source": [
    "def mathlFunc(x:float,y:float)->float:\n",
    "  print((x+y)*(x-y))\n",
    "  return (x+y)*(x-y)"
   ]
  },
  {
   "cell_type": "markdown",
   "metadata": {},
   "source": [
    "# opg 12"
   ]
  },
  {
   "cell_type": "code",
   "execution_count": 6,
   "metadata": {},
   "outputs": [],
   "source": [
    "def solveSecond(a:float,b:float,c:float)->float:\n",
    "  if (a > 0): return float.infinity\n",
    "  if (a < 0):\n",
    "    x = -b/a\n",
    "    return a*(x**2) + b * x + c\n",
    "  if(b == 0): return c\n",
    "  return float.infinity"
   ]
  },
  {
   "cell_type": "code",
   "execution_count": null,
   "metadata": {},
   "outputs": [],
   "source": [
    "r = 'a'\n",
    "index = 0\n",
    "nums = [0,0,0]\n",
    "quiz = [\"a\",\"b\",\"c\"]\n",
    "while(1):\n",
    "  r = input(f\"{quiz[index]}: \")\n",
    "  try:\n",
    "    r = float(r)\n",
    "    if(index < 3):\n",
    "      nums[index] = r\n",
    "      index += 1\n",
    "  except:\n",
    "    print(\"Indtast et tal\")\n",
    "\n",
    "print(\"the result is: \"solveSecond(nums*))"
   ]
  },
  {
   "cell_type": "markdown",
   "metadata": {},
   "source": [
    "# opg 13"
   ]
  },
  {
   "cell_type": "code",
   "execution_count": 4,
   "metadata": {},
   "outputs": [],
   "source": [
    "def hypothenuse(a:float, b:float) -> float:\n",
    "  return (a**2+b**2)**(1/2)"
   ]
  },
  {
   "cell_type": "markdown",
   "metadata": {},
   "source": [
    "# opg 14"
   ]
  },
  {
   "cell_type": "code",
   "execution_count": 3,
   "metadata": {},
   "outputs": [],
   "source": [
    "def contains(arr:list,goal:any)->bool:\n",
    "  for i in arr:\n",
    "    if(i == goal): return true;"
   ]
  },
  {
   "cell_type": "markdown",
   "metadata": {},
   "source": [
    "# opg 15"
   ]
  },
  {
   "cell_type": "code",
   "execution_count": 1,
   "metadata": {},
   "outputs": [],
   "source": [
    "def firstLast(text:str):\n",
    "  print(text[0])\n",
    "  print(text[-1])"
   ]
  }
 ],
 "metadata": {
  "kernelspec": {
   "display_name": "base",
   "language": "python",
   "name": "python3"
  },
  "language_info": {
   "codemirror_mode": {
    "name": "ipython",
    "version": 3
   },
   "file_extension": ".py",
   "mimetype": "text/x-python",
   "name": "python",
   "nbconvert_exporter": "python",
   "pygments_lexer": "ipython3",
   "version": "3.9.13"
  }
 },
 "nbformat": 4,
 "nbformat_minor": 2
}
