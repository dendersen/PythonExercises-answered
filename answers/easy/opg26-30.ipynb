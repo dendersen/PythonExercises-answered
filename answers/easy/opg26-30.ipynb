{
 "cells": [
  {
   "cell_type": "markdown",
   "metadata": {},
   "source": [
    "# Opg 26"
   ]
  },
  {
   "cell_type": "code",
   "execution_count": 27,
   "metadata": {},
   "outputs": [],
   "source": [
    "names = open(\"../names.txt\",\"w\")\n",
    "nameList = [\"Aske\",\"Ellinor\",\"Ayaz\",\"Vera\",\"Oscar\",\"Amalie\"]\n",
    "for name in nameList:\n",
    "  names.write(name)\n",
    "  names.write(\"\\n\")\n",
    "names.close()"
   ]
  },
  {
   "cell_type": "markdown",
   "metadata": {},
   "source": [
    "# Opg 27"
   ]
  },
  {
   "cell_type": "code",
   "execution_count": null,
   "metadata": {},
   "outputs": [],
   "source": [
    "from random import randint\n",
    "num = open(\"../numbers.txt\",\"w\")\n",
    "for i in range(1,101):\n",
    "  num.write(f\"{randint(1,10)}\\n\")\n",
    "num.close()\n",
    "num = open(\"../numbers.txt\",\"r\")\n",
    "numList = num.readlines()\n",
    "even = 0\n",
    "odd = 0\n",
    "for i in numList:\n",
    "  if int(i) % 2 == 0:\n",
    "    even += 1\n",
    "  else:\n",
    "    odd += 1\n",
    "\n",
    "print(f\"Even numbers: {even}\")\n",
    "print(f\"Odd numbers: {odd}\")"
   ]
  },
  {
   "cell_type": "markdown",
   "metadata": {},
   "source": [
    "# Opg 28"
   ]
  },
  {
   "cell_type": "code",
   "execution_count": null,
   "metadata": {},
   "outputs": [],
   "source": [
    "a = [4,3,5,1,2,6]\n",
    "b = [32,4,5,62,4]\n",
    "\n",
    "print(f\"a:{a[0]}\\nb:{b[0]}\")\n",
    "for x,y in zip(a,b):\n",
    "  print(f\"a:{x}\\nb:{y}\")"
   ]
  },
  {
   "cell_type": "markdown",
   "metadata": {},
   "source": [
    "# Opg 29"
   ]
  },
  {
   "cell_type": "code",
   "execution_count": null,
   "metadata": {},
   "outputs": [],
   "source": [
    "a = [4,3,5,1,2,6]\n",
    "b = [32,4,5,62,4]\n",
    "\n",
    "for x,i in enumerate(a+b):\n",
    "  if(i == 4):\n",
    "    if(x < len(a)):\n",
    "      print(f\"index {x} in a\")\n",
    "    else:\n",
    "      print(f\"index {x-len(a)} in b\")"
   ]
  },
  {
   "cell_type": "markdown",
   "metadata": {},
   "source": [
    "# Opg 30"
   ]
  },
  {
   "cell_type": "code",
   "execution_count": null,
   "metadata": {},
   "outputs": [],
   "source": [
    "a = [4,3,5,1,2,6]\n",
    "\n",
    "print([a[5]]+a[1:3])"
   ]
  }
 ],
 "metadata": {
  "kernelspec": {
   "display_name": "base",
   "language": "python",
   "name": "python3"
  },
  "language_info": {
   "codemirror_mode": {
    "name": "ipython",
    "version": 3
   },
   "file_extension": ".py",
   "mimetype": "text/x-python",
   "name": "python",
   "nbconvert_exporter": "python",
   "pygments_lexer": "ipython3",
   "version": "3.9.13"
  }
 },
 "nbformat": 4,
 "nbformat_minor": 2
}
