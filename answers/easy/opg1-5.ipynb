{
 "cells": [
  {
   "cell_type": "markdown",
   "metadata": {},
   "source": [
    "# opg 1"
   ]
  },
  {
   "cell_type": "code",
   "execution_count": null,
   "metadata": {},
   "outputs": [],
   "source": [
    "print(\"Hej med dig. Jeg elseker at kode\")"
   ]
  },
  {
   "cell_type": "code",
   "execution_count": null,
   "metadata": {},
   "outputs": [],
   "source": [
    "def printHello() -> None:\n",
    "  print(\"Hej med dig. Jeg elseker at kode\")"
   ]
  },
  {
   "cell_type": "markdown",
   "metadata": {},
   "source": [
    "# opg 2"
   ]
  },
  {
   "cell_type": "code",
   "execution_count": null,
   "metadata": {},
   "outputs": [],
   "source": [
    "r = 'a'\n",
    "while(1):\n",
    "  r = input(\"Radius: \")\n",
    "  try:\n",
    "    float(r)\n",
    "    break\n",
    "  except:\n",
    "    print(\"Indtast et tal\")\n",
    "print(\"Areal: \", 3.14 * float(r) ** 2)\n",
    "print(\"Omkreds: \", 2 * 3.14 * float(r))"
   ]
  },
  {
   "cell_type": "code",
   "execution_count": null,
   "metadata": {},
   "outputs": [],
   "source": [
    "def defineCircle(radius:int) -> List[int]:\n",
    "  print(\"Areal: \", 3.14 * float(r) ** 2)\n",
    "  print(\"Omkreds: \", 2 * 3.14 * float(r))\n",
    "  return [3.14 * radius ** 2, 2 * 3.14 * radius]\n"
   ]
  },
  {
   "cell_type": "markdown",
   "metadata": {},
   "source": [
    "# opg 3"
   ]
  },
  {
   "cell_type": "code",
   "execution_count": null,
   "metadata": {},
   "outputs": [],
   "source": [
    "navn = input(\"hvad er dit fornavn? \")\n",
    "navn += \" \"\n",
    "navn += input(\"hvad er dit efternavn? \")\n",
    "\n",
    "print(\"Hej \", navn)"
   ]
  },
  {
   "cell_type": "code",
   "execution_count": null,
   "metadata": {},
   "outputs": [],
   "source": [
    "def FullName(fornavn:str, efternavn:str) -> str:\n",
    "  return fornavn + \" \" + efternavn"
   ]
  },
  {
   "cell_type": "markdown",
   "metadata": {},
   "source": [
    "# opg 4"
   ]
  },
  {
   "cell_type": "code",
   "execution_count": null,
   "metadata": {},
   "outputs": [],
   "source": [
    "age = 'a'\n",
    "while(1):\n",
    "  age = input(\"alder: \")\n",
    "  try:\n",
    "    int(age)\n",
    "    break\n",
    "  except:\n",
    "    print(\"Indtast et heltal\")\n",
    "\n",
    "if float(age) < 18:\n",
    "  print(\"Du er ikke gammel nok\")\n",
    "else:\n",
    "  print(\"Du er gammel nok\")"
   ]
  },
  {
   "cell_type": "code",
   "execution_count": null,
   "metadata": {},
   "outputs": [],
   "source": [
    "def isOfAge(age:int, minimum:int) -> bool:\n",
    "  if float(age) < minimum:\n",
    "    print(\"Du er ikke gammel nok\")\n",
    "  else:\n",
    "    print(\"Du er gammel nok\")\n",
    "  return age < 18:"
   ]
  },
  {
   "cell_type": "markdown",
   "metadata": {},
   "source": [
    "# opg 5"
   ]
  },
  {
   "cell_type": "code",
   "execution_count": null,
   "metadata": {},
   "outputs": [],
   "source": [
    "r = 'a'\n",
    "index = 0\n",
    "nums = [0,0,0]\n",
    "while(1):\n",
    "  r = input(f\"tal{index+1} / 3: \")\n",
    "  try:\n",
    "    float(r)\n",
    "    if(index < 3):\n",
    "      nums[index] = float(r)\n",
    "      index += 1\n",
    "    else:\n",
    "      break;\n",
    "  except:\n",
    "    print(\"Indtast et tal\")\n",
    "\n",
    "print(f\"summen af de tre tal er {sum(nums)}\")\n",
    "print(f\"hvilket er {if(sum(nums) > 100, 'større', 'mindre')} end 100\")\n"
   ]
  },
  {
   "cell_type": "code",
   "execution_count": null,
   "metadata": {},
   "outputs": [],
   "source": [
    "def lessThan(nums:List[float], top:float = 100) -> str:\n",
    "  print(f\"summen af de tre tal er {sum(nums)} hvilket er {if(sum(nums) > 100, 'større', 'mindre')} end 100\")\n",
    "  return sum(nums) > 100"
   ]
  }
 ],
 "metadata": {
  "language_info": {
   "name": "python"
  }
 },
 "nbformat": 4,
 "nbformat_minor": 2
}
