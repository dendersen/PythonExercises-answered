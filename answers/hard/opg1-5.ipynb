{
 "cells": [
  {
   "cell_type": "markdown",
   "metadata": {},
   "source": [
    "# opg 1"
   ]
  },
  {
   "cell_type": "code",
   "execution_count": 1,
   "metadata": {},
   "outputs": [
    {
     "name": "stdout",
     "output_type": "stream",
     "text": [
      "file 1: 35.46941738478831\n",
      "file 2: 43.955682083041985\n"
     ]
    }
   ],
   "source": [
    "file = open(\"../LIX1.txt\",\"r\")\n",
    "LIX1 = file.read()\n",
    "file.close()\n",
    "\n",
    "file = open(\"../LIX2.txt\",\"r\")\n",
    "LIX2 = file.read()\n",
    "file.close()\n",
    "\n",
    "def LIX(text:str):\n",
    "  text = text.replace(\"\\n.\",\". \")\n",
    "  text = text.replace(\"\\n\",\". \")\n",
    "  text = text.replace(\"!\",\". \")\n",
    "  text = text.replace(\"?\",\". \")\n",
    "  text = text.replace(\",\",\" \")\n",
    "  while(text.find(\"  \") != -1):\n",
    "    text = text.replace(\"  \",\" \")\n",
    "  P = text.count(\".\")\n",
    "  text = text.replace(\".\",\" \")\n",
    "  while(text.find(\"  \") != -1):\n",
    "    text = text.replace(\"  \",\" \")\n",
    "  L = 0\n",
    "\n",
    "  ord = text.split(\" \")\n",
    "  for x in ord:\n",
    "    if(len(x)>6):\n",
    "      L += 1\n",
    "  O = len(ord)\n",
    "  return O/P+(L*100)/O\n",
    "\n",
    "print(f\"file 1: {LIX(LIX1)}\")\n",
    "print(f\"file 2: {LIX(LIX2)}\")"
   ]
  },
  {
   "cell_type": "markdown",
   "metadata": {},
   "source": [
    "# opg 2"
   ]
  },
  {
   "cell_type": "code",
   "execution_count": null,
   "metadata": {},
   "outputs": [],
   "source": [
    "text1 = \"Der var engang\"\n",
    "text2 = \" en mand, som\"\n",
    "text3 = \"boede i en spand. Spanden var af ler\"\n",
    "\n",
    "concatenated_text = text1 + text2 + text3\n",
    "\n",
    "length_text1 = len(text1)\n",
    "length_text2 = len(text2)\n",
    "length_text3 = len(text3)\n",
    "\n",
    "second_char_text1 = text1[1]\n",
    "second_char_text2 = text2[1]\n",
    "second_char_text3 = text3[1]\n",
    "\n",
    "are_texts_same = text1 == text2 or text1 == text3 or text2 == text3\n",
    "\n",
    "verses_text = concatenated_text.replace(\",\",\"\\n\").replace(\".\",\"\\n\").replace(\"  \",\" \")\n",
    "\n",
    "substring_text1 = text1[4:7]\n",
    "\n",
    "max_length = max(len(text1), len(text2), len(text3))\n",
    "merged_text = ''.join(a[i%3] for i,a in enumerate(zip(text1, text2, text3)))\n",
    "\n",
    "count_e = concatenated_text.count('e')\n",
    "\n",
    "print(f\"Concatenated Text: {concatenated_text}\")\n",
    "print(f\"Length of Text1: {length_text1}\")\n",
    "print(f\"Length of Text2: {length_text2}\")\n",
    "print(f\"Length of Text3: {length_text3}\")\n",
    "print(f\"Second Character of Text1: {second_char_text1}\")\n",
    "print(f\"Second Character of Text2: {second_char_text2}\")\n",
    "print(f\"Second Character of Text3: {second_char_text3}\")\n",
    "print(f\"Are any two texts the same? {are_texts_same}\")\n",
    "print(f\"Versals Text: {verses_text}\")\n",
    "print(f\"Substring of Text1: {substring_text1}\")\n",
    "print(f\"Merged Text: {merged_text}\")\n",
    "print(f\"Count of 'e' in Concatenated Text: {count_e}\")"
   ]
  },
  {
   "cell_type": "markdown",
   "metadata": {},
   "source": [
    "# opg 3"
   ]
  },
  {
   "cell_type": "code",
   "execution_count": null,
   "metadata": {},
   "outputs": [],
   "source": [
    "import math\n",
    "def tables(start:int=1,end:int=10,spacing:bool = True)->list:\n",
    "  width:int = int(math.ceil(math.log10(end*end)))+1\n",
    "  if spacing : \n",
    "    print(end=\"|\")\n",
    "    for j in range(1,end+1):\n",
    "      print(\"-\"*width,end=\"|\")\n",
    "  print()\n",
    "  for i in range(start,end+1):\n",
    "    if spacing : print(end=\"|\") \n",
    "    else: print(\" \",end=\"\")\n",
    "    for j in range(1,end+1):\n",
    "      num = i*j\n",
    "      print(str(num).rjust(width),end= (\"|\" if spacing else \" \"))\n",
    "    print(end=\"\\n\" + \"|\" if spacing else \"\\n\")\n",
    "    if spacing :\n",
    "      for j in range(1,end+1):\n",
    "        print(\"-\"*width,end=\"|\")\n",
    "    print()"
   ]
  },
  {
   "cell_type": "markdown",
   "metadata": {},
   "source": [
    "# opg 4"
   ]
  },
  {
   "cell_type": "code",
   "execution_count": null,
   "metadata": {},
   "outputs": [],
   "source": [
    "import math\n",
    "def sqrtFloor(n:int)->int:\n",
    "  return int(math.sqrt(n))\n",
    "def sqrtCeil(n:int)->int:\n",
    "  return math.ceil(math.sqrt(n))"
   ]
  },
  {
   "cell_type": "markdown",
   "metadata": {},
   "source": [
    "# opg 5"
   ]
  },
  {
   "cell_type": "code",
   "execution_count": 20,
   "metadata": {},
   "outputs": [],
   "source": [
    "from typing import Union, List\n",
    "import numpy as np\n",
    "def BMR(weight:float, height:float, age:int, gender:bool, activity:Union[float,int] = 0) -> List[float]:\n",
    "  standard = []\n",
    "  if(gender):#men\n",
    "    standard.append(13.7516*weight + 5.0033*height - 6.755*age + 66.473)\n",
    "    standard.append(13.397*weight + 4.799 *height - 5.677*age + 88.362)\n",
    "    standard.append(10*weight + 6.25*height - 5*age + 5)\n",
    "  else:#women\n",
    "    standard.append(9.5634*weight + 1.8496*height - 4.6756*age + 655.0955)\n",
    "    standard.append(9.247*weight + 3.098*height - 4.330*age + 447.593)\n",
    "    standard.append(10*weight + 6.25*height - 5*age + 161)\n",
    "  if(activity < 1):\n",
    "    return standard\n",
    "  standard = np.array(standard)\n",
    "  if(activity == 1):\n",
    "    return standard*1.2\n",
    "  if(activity == 2):\n",
    "    return standard*1.375\n",
    "  if(activity == 3):\n",
    "    return standard*1.55\n",
    "  if(activity == 4):\n",
    "    return standard*1.725\n",
    "  \n",
    "  if(activity < 2):\n",
    "    return standard * (activity - 1) * (1.375 - 1.2) + standard * 1.2\n",
    "  if(activity < 3):\n",
    "    return standard * (activity - 2) * (1.55 - 1.375) + standard * 1.2\n",
    "  if(activity < 4):\n",
    "    return standard * (activity - 3) * (1.55 - 1.725) + standard * 1.2\n",
    "  return   standard * (activity - 4) * (1.725 - 1.9) + standard * 1.2"
   ]
  }
 ],
 "metadata": {
  "kernelspec": {
   "display_name": "base",
   "language": "python",
   "name": "python3"
  },
  "language_info": {
   "codemirror_mode": {
    "name": "ipython",
    "version": 3
   },
   "file_extension": ".py",
   "mimetype": "text/x-python",
   "name": "python",
   "nbconvert_exporter": "python",
   "pygments_lexer": "ipython3",
   "version": "3.9.13"
  }
 },
 "nbformat": 4,
 "nbformat_minor": 2
}
