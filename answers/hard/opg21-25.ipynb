{
 "cells": [
  {
   "cell_type": "markdown",
   "metadata": {},
   "source": [
    "# Opg 21"
   ]
  },
  {
   "cell_type": "code",
   "execution_count": null,
   "metadata": {},
   "outputs": [],
   "source": [
    "def findIn(full, partial):\n",
    "  success:bool = False\n",
    "  for real in range (len(full)):\n",
    "    for i in range(len(partial)):\n",
    "      success = True\n",
    "      if(full[real+i] != partial[i]):\n",
    "        success = False\n",
    "        break\n",
    "    if success:\n",
    "      return True"
   ]
  },
  {
   "cell_type": "markdown",
   "metadata": {},
   "source": [
    "# Opg 22"
   ]
  },
  {
   "cell_type": "code",
   "execution_count": 4,
   "metadata": {},
   "outputs": [
    {
     "name": "stdout",
     "output_type": "stream",
     "text": [
      "Niels har en løn på 85000 kr.\n",
      "Peter har en løn på 40000 kr.\n",
      "Jakob har en løn på 90000 kr.\n",
      "Poul har en løn på 100000 kr.\n",
      "Dorte har en løn på 40000 kr.\n",
      "\n",
      "\n",
      "Niels er i lønsystemet\n",
      "Peter er i lønsystemet\n",
      "Jakob er i lønsystemet\n",
      "Poul er i lønsystemet\n",
      "Dorte er i lønsystemet\n",
      "\n",
      "der er en lønværdi på 85000\n",
      "der er en lønværdi på 40000\n",
      "der er en lønværdi på 90000\n",
      "der er en lønværdi på 100000\n",
      "der er en lønværdi på 40000\n",
      "\n",
      "genemsnit løn er 71000.0\n",
      "\n",
      "den mest almindelige løn er 40000\n",
      "\n",
      "den højeste løn er 100000\n",
      "den laveste løn er 40000\n",
      "\n",
      "1 ansatte tjænner 85000\n",
      "2 ansatte tjænner 40000\n",
      "1 ansatte tjænner 90000\n",
      "1 ansatte tjænner 100000\n"
     ]
    }
   ],
   "source": [
    "løn={'Niels':85000,'Peter':40000,'Jakob':90000,'Poul':100000,'Dorte':40000}\n",
    "\n",
    "def checkWage():\n",
    "  for key in løn:\n",
    "    print(key, \"har en løn på\", løn[key], \"kr.\")\n",
    "  print()\n",
    "  if(\"Bente\" in løn):\n",
    "    print(\"Bente er i lønsystemet\")\n",
    "  print()\n",
    "  for i in løn:\n",
    "    print(f\"{i} er i lønsystemet\")\n",
    "  print()\n",
    "  for i in løn:\n",
    "    print (f\"der er en lønværdi på {løn[i]}\")\n",
    "  print()\n",
    "  total = 0\n",
    "  for i in løn:\n",
    "    total += løn[i]\n",
    "  print(f\"genemsnit løn er {total/len(løn)}\")\n",
    "  print()\n",
    "  options = []\n",
    "  occurrences = []\n",
    "  for i in løn:\n",
    "    if løn[i] not in options:\n",
    "      options.append(løn[i])\n",
    "      occurrences.append(1)\n",
    "    else:\n",
    "      occurrences[options.index(løn[i])] += 1\n",
    "  common = 0\n",
    "  for i in range(len(options)):\n",
    "    if(occurrences[i] > occurrences[common]):\n",
    "      common = i\n",
    "  print(f\"den mest almindelige løn er {options[common]}\")\n",
    "  print()\n",
    "  print(f\"den højeste løn er {max(løn.values())}\")\n",
    "  print(f\"den laveste løn er {min(løn.values())}\")\n",
    "  print()\n",
    "  for i in range(len(occurrences)):\n",
    "    if occurrences[i] >= 1:\n",
    "      print(f\"{occurrences[i]} ansatte tjænner {options[i]}\")\n",
    "\n",
    "checkWage()"
   ]
  },
  {
   "cell_type": "markdown",
   "metadata": {},
   "source": [
    "# Opg 23"
   ]
  },
  {
   "cell_type": "code",
   "execution_count": 14,
   "metadata": {},
   "outputs": [
    {
     "name": "stdout",
     "output_type": "stream",
     "text": [
      "{'H': 1, 'E': 2, 'J': 1, 'M': 1, 'D': 2, 'I': 1, 'G': 1, 'A': 0, 'B': 0, 'C': 0, 'F': 0, 'K': 0, 'L': 0, 'N': 0, 'O': 0, 'P': 0, 'Q': 0, 'R': 0, 'S': 0, 'T': 0, 'U': 0, 'V': 0, 'W': 0, 'X': 0, 'Y': 0, 'Z': 0, 'Æ': 0, 'Ø': 0, 'Å': 0}\n"
     ]
    }
   ],
   "source": [
    "def countLetter(text:str)->dict:\n",
    "  letters = {}\n",
    "  for i in text:\n",
    "    i = i.upper()\n",
    "    if(ord(i) >= 65 and ord(i) <= 90):\n",
    "      if i in letters:\n",
    "        letters[i] += 1\n",
    "      else:\n",
    "        letters[i] = 1\n",
    "  for i in \"ABCDEFGHIJKLMNOPQRSTUVWXYZÆØÅ\":\n",
    "    if(i not in letters):\n",
    "      letters[i] = 0\n",
    "  return letters\n",
    "\n",
    "print(countLetter(\"Hej med dig\"))"
   ]
  },
  {
   "cell_type": "markdown",
   "metadata": {},
   "source": [
    "# Opg 24"
   ]
  },
  {
   "cell_type": "code",
   "execution_count": null,
   "metadata": {},
   "outputs": [],
   "source": [
    "movies: dict[list] = {}\n",
    "def newMovie(target: dict[list] ,title:str, year:int, genre:str, rating:float, instructor:str):\n",
    "  target[title] = [year, genre, rating,instructor]\n",
    "def exists(target: dict[list], title:str)->bool:\n",
    "  return title in target\n",
    "def delete(target: dict[list], title:str):\n",
    "  target.pop(title)\n",
    "def edit(target: dict[list], oldTitle:str, title:str = None, year:int = None, genre:str = None, rating:float = None, instructor:str = None):\n",
    "  if(title != None):\n",
    "    target[title] = target.pop(oldTitle)\n",
    "    title = oldTitle\n",
    "  if(year != None):\n",
    "    target[title][0] = year\n",
    "  if(genre != None):\n",
    "    target[title][1] = genre\n",
    "  if(rating != None):\n",
    "    target[title][2] = rating\n",
    "  if(instructor != None):\n",
    "    target[title][3] = instructor\n"
   ]
  },
  {
   "cell_type": "markdown",
   "metadata": {},
   "source": [
    "# Opg 25"
   ]
  },
  {
   "cell_type": "code",
   "execution_count": null,
   "metadata": {},
   "outputs": [
    {
     "name": "stdout",
     "output_type": "stream",
     "text": [
      "mergeSort success\n",
      "mergeSort time: 18674277\n"
     ]
    }
   ],
   "source": [
    "import random\n",
    "\n",
    "def bubbleSort(target: list[float], time = None):\n",
    "  new = target.copy()\n",
    "  for i in range(len(target)-1, -1, -1):\n",
    "    for j in range(i):\n",
    "      if(time != None):\n",
    "        time += 1\n",
    "      if(new[j] > new[j+1]):\n",
    "        new[j], new[j+1] = new[j+1], new[j]\n",
    "  if(time != None):\n",
    "    return new, time\n",
    "  return new\n",
    "\n",
    "def mergeSort(target: list[float], time = None):\n",
    "  new = target.copy()\n",
    "  return __mergeSort(new, time)\n",
    "\n",
    "def __mergeSort(target: list[float], time = None):\n",
    "  if(len(target) <= 1):\n",
    "    return target,0\n",
    "  mid = len(target)//2\n",
    "  left  = __mergeSort(target[:mid],0)\n",
    "  right = __mergeSort(target[mid:],0)\n",
    "  \n",
    "  if(time != None):\n",
    "    time += right[1]\n",
    "    time += left[1]\n",
    "  \n",
    "  left = left[0]\n",
    "  right = right[0]\n",
    "  \n",
    "  new = []\n",
    "  \n",
    "  while len(left) > 0 and len(right) > 0:\n",
    "    if(time != None):\n",
    "      time += 1\n",
    "    if left[0] < right[0]:\n",
    "      new.append(left.pop(0))\n",
    "    else:\n",
    "      new.append(right.pop(0))\n",
    "  while(len(left) > 0):\n",
    "    new.append(left.pop(0))\n",
    "  while(len(right) > 0):\n",
    "    new.append(right.pop(0))\n",
    "  temp = check(new)\n",
    "  if(not temp[0]): print(temp[1], new)\n",
    "  if(time != None):\n",
    "    return new, time\n",
    "  return new, None\n",
    "\n",
    "def check(target: list[float]):\n",
    "  for i in range(1,len(target)):\n",
    "    if(target[i] < target[i-1]):\n",
    "      return False, i\n",
    "  return True, None\n",
    "\n",
    "def testBubble(indexes: int):\n",
    "  randList = [random.random() for i in range(indexes)]\n",
    "  result = bubbleSort(randList.copy(),0)\n",
    "  works = check(result[0])\n",
    "  if(works[0]):\n",
    "    print(\"bubbleSort success\")\n",
    "  else:\n",
    "    print(\"bubbleSort fail at index\", works[1])\n",
    "    for i in range(works[1]-5,works[1]+5):\n",
    "      if(i >= 0 and i < len(result[0])):\n",
    "        print(i,result[0][i])\n",
    "  print(\"bubbleSort time:\", result[1])\n",
    "\n",
    "def testMerge(indexes: int):\n",
    "  randList = [random.random() for i in range(indexes)]\n",
    "  result = mergeSort(randList.copy(),0)\n",
    "  works = check(result[0])\n",
    "  if(works[0]):\n",
    "    print(\"mergeSort success\")\n",
    "  else:\n",
    "    print(\"mergeSort fail at index\", works[1])\n",
    "    for i in range(works[1]-5,works[1]+5):\n",
    "      if(i >= 0 and i < len(result[0])):\n",
    "        print(i,result[0][i])\n",
    "  print(\"mergeSort time:\", result[1])\n",
    "\n",
    "testCase = 1_000\n",
    "testBubble(testCase)\n",
    "print()\n",
    "testMerge(testCase)\n"
   ]
  }
 ],
 "metadata": {
  "kernelspec": {
   "display_name": "base",
   "language": "python",
   "name": "python3"
  },
  "language_info": {
   "codemirror_mode": {
    "name": "ipython",
    "version": 3
   },
   "file_extension": ".py",
   "mimetype": "text/x-python",
   "name": "python",
   "nbconvert_exporter": "python",
   "pygments_lexer": "ipython3",
   "version": "3.12.7"
  }
 },
 "nbformat": 4,
 "nbformat_minor": 2
}
