{
 "cells": [
  {
   "cell_type": "markdown",
   "metadata": {},
   "source": [
    "# opg 11"
   ]
  },
  {
   "cell_type": "code",
   "execution_count": null,
   "metadata": {},
   "outputs": [],
   "source": []
  },
  {
   "cell_type": "markdown",
   "metadata": {},
   "source": [
    "# opg 12"
   ]
  },
  {
   "cell_type": "code",
   "execution_count": null,
   "metadata": {},
   "outputs": [],
   "source": [
    "def passwordCheck(password:str) ->bool:\n",
    "  if(len(password) < 8): return False\n",
    "  if(not any(char.isdigit() for char in password)): return False\n",
    "  if(not any(char.isupper() for char in password)): return False\n",
    "  if(not any(char.islower() for char in password)): return False\n",
    "  return True"
   ]
  },
  {
   "cell_type": "markdown",
   "metadata": {},
   "source": [
    "# opg 13"
   ]
  },
  {
   "cell_type": "code",
   "execution_count": 3,
   "metadata": {},
   "outputs": [],
   "source": [
    "from numpy import pi\n",
    "import math\n",
    "def degToRad(deg:float) ->float:\n",
    "  return deg * pi / 180\n",
    "def radToDeg(rad:float) ->float:\n",
    "  return rad * 180 / pi"
   ]
  },
  {
   "cell_type": "code",
   "execution_count": 2,
   "metadata": {},
   "outputs": [],
   "source": []
  },
  {
   "cell_type": "markdown",
   "metadata": {},
   "source": [
    "# opg 14"
   ]
  },
  {
   "cell_type": "code",
   "execution_count": null,
   "metadata": {},
   "outputs": [],
   "source": [
    "def  pi (i:int) ->float:\n",
    "  out = 3.0\n",
    "  for j in range(1,i+1):\n",
    "    if(j%1000==0):\n",
    "      print(f\"{j}/{i}, {j/i*100:.{6}f}%\\t{out:.{40}f}\",end=\"\\r\")\n",
    "    temp = 4 /((j*2)*(j*2+1)*(j*2+2))\n",
    "    if(j%2==1):\n",
    "      out += temp\n",
    "    else:\n",
    "      out -= temp\n",
    "  return out"
   ]
  },
  {
   "cell_type": "markdown",
   "metadata": {},
   "source": [
    "# opg 15"
   ]
  },
  {
   "cell_type": "code",
   "execution_count": null,
   "metadata": {},
   "outputs": [],
   "source": [
    "def findA(text:str) ->int:\n",
    "  return text.count(\"a\")"
   ]
  }
 ],
 "metadata": {
  "kernelspec": {
   "display_name": "base",
   "language": "python",
   "name": "python3"
  },
  "language_info": {
   "codemirror_mode": {
    "name": "ipython",
    "version": 3
   },
   "file_extension": ".py",
   "mimetype": "text/x-python",
   "name": "python",
   "nbconvert_exporter": "python",
   "pygments_lexer": "ipython3",
   "version": "3.9.13"
  }
 },
 "nbformat": 4,
 "nbformat_minor": 2
}
