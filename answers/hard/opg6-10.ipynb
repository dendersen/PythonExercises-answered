{
 "cells": [
  {
   "cell_type": "markdown",
   "metadata": {},
   "source": [
    "# opg 6"
   ]
  },
  {
   "cell_type": "code",
   "execution_count": null,
   "metadata": {},
   "outputs": [],
   "source": [
    "import numpy as np\n",
    "def validCPR(CPR:str)->bool:\n",
    "  if(not CPR.isnumeric() and len(CPR)!=10):\n",
    "    return False\n",
    "  CPR = [int(i) for i in CPR]\n",
    "  day = CPR[0]*10+CPR[1]\n",
    "  month = CPR[2]*10+CPR[3]\n",
    "  year = CPR[4]*10+CPR[5]\n",
    "  if(day > 31 or month > 12):\n",
    "    return False\n",
    "  if(day == 31 and month in [4,6,9,11]):\n",
    "    return False\n",
    "  if(month == 2 and day > 29):\n",
    "    return False\n",
    "  if(year%4!=0 and month == 2 and day > 28):\n",
    "    return False\n",
    "  if(year%4==0 and month == 2 and day > 29):\n",
    "    return False\n",
    "  return True\n",
    "\n",
    "def WithControll(CPR:str)->bool:\n",
    "  if(not validCPR(CPR)):\n",
    "    return None\n",
    "  CPR = np.array([int(i) for i in CPR])\n",
    "  check = np.array([4,3,2,7,6,5,4,3,2,1])\n",
    "  check = check*CPR\n",
    "  return sum(check)%11 == 0"
   ]
  },
  {
   "cell_type": "markdown",
   "metadata": {},
   "source": [
    "# opg 7"
   ]
  },
  {
   "cell_type": "code",
   "execution_count": 11,
   "metadata": {},
   "outputs": [],
   "source": [
    "def findSmall(text:str)->list:\n",
    "  small = []\n",
    "  for x,i in enumerate(text):\n",
    "    if(i >= 'a' and i <= 'z'):\n",
    "      small.append(x)\n",
    "  return small\n",
    "\n",
    "def findLarge(text:str)->list:\n",
    "  large = []\n",
    "  for x,i in enumerate(text):\n",
    "    if(i >= 'A' and i <= 'Z'):\n",
    "      large.append(x)\n",
    "  return large\n",
    "\n",
    "def findSpace(text:str)->list:\n",
    "  space = []\n",
    "  for x,i in enumerate(text):\n",
    "    if(i == ' '):\n",
    "      space.append(x)\n",
    "  return space\n",
    "\n",
    "def different(text1:str, text2:str) -> list:\n",
    "  diff = []\n",
    "  for x,i in enumerate(zip(text1,text2)):\n",
    "    if(i[0] != i[1]):\n",
    "      diff.append(x)\n",
    "  return diff\n",
    "\n",
    "def replace(text:str, old:str = 'i', new:str = 'k')->str:\n",
    "  return text.replace(old,new)\n",
    "\n",
    "def contains(text:str, word:str)->bool:\n",
    "  return word in text"
   ]
  },
  {
   "cell_type": "markdown",
   "metadata": {},
   "source": [
    "# opg 8"
   ]
  },
  {
   "cell_type": "code",
   "execution_count": 1,
   "metadata": {},
   "outputs": [
    {
     "name": "stdout",
     "output_type": "stream",
     "text": [
      "1030/1030 100.00%; score = 2/623\r"
     ]
    },
    {
     "data": {
      "text/plain": [
       "'og det '"
      ]
     },
     "execution_count": 1,
     "metadata": {},
     "output_type": "execute_result"
    }
   ],
   "source": [
    "def plagiat(text1:str, text2:str)->int:\n",
    "  maxSame = 0\n",
    "  text3 = \"\"\n",
    "  text1 = text1.split(\" \")\n",
    "  text2 = text2.split(\" \")\n",
    "  for start1 in range(len(text1)):\n",
    "    print(f\"{start1}/{len(text1)} {start1 / len(text1) * 100:.{2}f}%; score = {maxSame}/{min(len(text1),len(text2))}\",end=\"\\r\")\n",
    "    for start2 in range(len(text2)):\n",
    "      same = 0\n",
    "      temp = \"\"\n",
    "      for current1,current2 in zip(text1[start1:],text2[start2:]):\n",
    "        if(current1 == current2):\n",
    "          same+=1\n",
    "          temp += current1 + \" \"\n",
    "        else:\n",
    "          if(same > maxSame):\n",
    "            maxSame = same\n",
    "            text3 = temp\n",
    "          break;\n",
    "      if(same > maxSame):\n",
    "        maxSame = same\n",
    "        text3 = temp\n",
    "      if(maxSame == min(len(text1),len(text2))):\n",
    "        break\n",
    "    print(f\"{len(text1)}/{len(text1)} {len(text1) / len(text1) * 100:.{2}f}%; score = {maxSame}/{min(len(text1),len(text2))}\",end=\"\\r\")\n",
    "  return text3.replace(\"\\\\n\",\"\\n\")\n",
    "\n",
    "plagiat(open(\"../LIX1.txt\").read(),open(\"../LIX2.txt\").read())"
   ]
  },
  {
   "cell_type": "markdown",
   "metadata": {},
   "source": [
    "# opg 9"
   ]
  },
  {
   "cell_type": "code",
   "execution_count": 3,
   "metadata": {},
   "outputs": [],
   "source": [
    "from random import randint\n",
    "def haiku(text5:list[str],text7:list[str]):\n",
    "  text = \"\"\n",
    "  text += text5[randint(0,len(text5)-1)] + \"\\n\"\n",
    "  text += text7[randint(0,len(text7)-1)] + \"\\n\"\n",
    "  text += text5[randint(0,len(text5)-1)] + \"\\n\"\n",
    "  return text"
   ]
  },
  {
   "cell_type": "markdown",
   "metadata": {},
   "source": [
    "# opg 10"
   ]
  },
  {
   "cell_type": "code",
   "execution_count": 10,
   "metadata": {},
   "outputs": [
    {
     "name": "stdout",
     "output_type": "stream",
     "text": [
      "q to quit\n",
      "Player: 0 PC: 0\n",
      "\n",
      "rock\n",
      "scissors\n",
      "Player: 1 PC: 0\n",
      "\n",
      "paper\n",
      "paper\n",
      "Player: 1 PC: 0\n",
      "\n",
      "par\n",
      "Invalid action\n",
      "Player: 1 PC: 0\n",
      "\n",
      "paper\n",
      "rock\n",
      "Player: 2 PC: 0\n",
      "\n",
      "q\n"
     ]
    }
   ],
   "source": [
    "from random import randint\n",
    "def rps():\n",
    "  scorePlayer = 0\n",
    "  scorePC = 0\n",
    "  print(\"q to quit\")\n",
    "  RPS = [\"rock\",\"paper\",\"scissors\"]\n",
    "  while(1):\n",
    "    print(f\"Player: {scorePlayer} PC: {scorePC}\")\n",
    "    action = input(\"Rock Paper Scissors: \").lower()\n",
    "    print(\"\\n\" + action)\n",
    "    if(action == \"q\"):\n",
    "      break\n",
    "    if(action not in RPS):\n",
    "      print(\"Invalid action\")\n",
    "      continue\n",
    "    action = RPS.index(action)\n",
    "    pcAction = randint(0,2)\n",
    "    print(RPS[pcAction])\n",
    "    if(action+1%3 == pcAction):\n",
    "      scorePC += 1\n",
    "      continue\n",
    "    if(action == pcAction):\n",
    "      continue\n",
    "    scorePlayer += 1\n",
    "  if(scorePlayer > scorePC):\n",
    "    print(\"Player wins\")\n",
    "  else:\n",
    "    print(\"PC wins\")\n",
    "  return [scorePlayer,scorePC]\n",
    "\n",
    "rps()"
   ]
  }
 ],
 "metadata": {
  "kernelspec": {
   "display_name": "base",
   "language": "python",
   "name": "python3"
  },
  "language_info": {
   "codemirror_mode": {
    "name": "ipython",
    "version": 3
   },
   "file_extension": ".py",
   "mimetype": "text/x-python",
   "name": "python",
   "nbconvert_exporter": "python",
   "pygments_lexer": "ipython3",
   "version": "3.9.13"
  }
 },
 "nbformat": 4,
 "nbformat_minor": 2
}
