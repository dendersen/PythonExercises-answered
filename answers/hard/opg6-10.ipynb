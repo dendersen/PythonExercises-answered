{
 "cells": [
  {
   "cell_type": "markdown",
   "metadata": {},
   "source": [
    "# opg 6"
   ]
  },
  {
   "cell_type": "code",
   "execution_count": null,
   "metadata": {},
   "outputs": [],
   "source": [
    "import numpy as np\n",
    "def validCPR(CPR:str)->bool:\n",
    "  if(not CPR.isnumeric() and len(CPR)!=10):\n",
    "    return False\n",
    "  CPR = [int(i) for i in CPR]\n",
    "  day = CPR[0]*10+CPR[1]\n",
    "  month = CPR[2]*10+CPR[3]\n",
    "  year = CPR[4]*10+CPR[5]\n",
    "  if(day > 31 or month > 12):\n",
    "    return False\n",
    "  if(day == 31 and month in [4,6,9,11]):\n",
    "    return False\n",
    "  if(month == 2 and day > 29):\n",
    "    return False\n",
    "  if(year%4!=0 and month == 2 and day > 28):\n",
    "    return False\n",
    "  if(year%4==0 and month == 2 and day > 29):\n",
    "    return False\n",
    "  return True\n",
    "\n",
    "def WithControll(CPR:str)->bool:\n",
    "  if(not validCPR(CPR)):\n",
    "    return None\n",
    "  CPR = np.array([int(i) for i in CPR])\n",
    "  check = np.array([4,3,2,7,6,5,4,3,2,1])\n",
    "  check = check*CPR\n",
    "  return sum(check)%11 == 0"
   ]
  },
  {
   "cell_type": "markdown",
   "metadata": {},
   "source": [
    "# opg 7"
   ]
  },
  {
   "cell_type": "code",
   "execution_count": 11,
   "metadata": {},
   "outputs": [],
   "source": [
    "def findSmall(text:str)->list:\n",
    "  small = []\n",
    "  for x,i in enumerate(text):\n",
    "    if(i >= 'a' and i <= 'z'):\n",
    "      small.append(x)\n",
    "  return small\n",
    "\n",
    "def findLarge(text:str)->list:\n",
    "  large = []\n",
    "  for x,i in enumerate(text):\n",
    "    if(i >= 'A' and i <= 'Z'):\n",
    "      large.append(x)\n",
    "  return large\n",
    "\n",
    "def findSpace(text:str)->list:\n",
    "  space = []\n",
    "  for x,i in enumerate(text):\n",
    "    if(i == ' '):\n",
    "      space.append(x)\n",
    "  return space\n",
    "\n",
    "def different(text1:str, text2:str) -> list:\n",
    "  diff = []\n",
    "  for x,i in enumerate(zip(text1,text2)):\n",
    "    if(i[0] != i[1]):\n",
    "      diff.append(x)\n",
    "  return diff\n",
    "\n",
    "def replace(text:str, old:str = 'i', new:str = 'k')->str:\n",
    "  return text.replace(old,new)\n",
    "\n",
    "def contains(text:str, word:str)->bool:\n",
    "  return word in text"
   ]
  },
  {
   "cell_type": "markdown",
   "metadata": {},
   "source": [
    "# opg 8"
   ]
  },
  {
   "cell_type": "code",
   "execution_count": null,
   "metadata": {},
   "outputs": [],
   "source": [
    "def plagiat(text1:str, text2:str)->int:\n",
    "  index = 0;\n",
    "  max = len(text1) * len(text2)\n",
    "  max = max * max\n",
    "  maxSame = 0\n",
    "  for start1 in range(len(text1)):\n",
    "    for start2 in range(len(text2)):\n",
    "      for slut2 in range(start2,len(text2)):\n",
    "        same = 0\n",
    "        for slut1 in range(start1,len(text1)):\n",
    "          index += 1\n",
    "          print(f\"{(index*100)//max}\",end='\\r')\n",
    "          if(text1[start1:start2] == text2[slut2:slut1]):\n",
    "            same+=1\n",
    "          else:\n",
    "            if(same > maxSame):\n",
    "              maxSame = same\n",
    "            break\n",
    "  return maxSame\n",
    "\n",
    "plagiat(open(\"../LIX1.txt\").read(),open(\"../LIX2.txt\").read())"
   ]
  },
  {
   "cell_type": "markdown",
   "metadata": {},
   "source": [
    "# opg 9"
   ]
  },
  {
   "cell_type": "markdown",
   "metadata": {},
   "source": [
    "# opg 10"
   ]
  }
 ],
 "metadata": {
  "kernelspec": {
   "display_name": "base",
   "language": "python",
   "name": "python3"
  },
  "language_info": {
   "codemirror_mode": {
    "name": "ipython",
    "version": 3
   },
   "file_extension": ".py",
   "mimetype": "text/x-python",
   "name": "python",
   "nbconvert_exporter": "python",
   "pygments_lexer": "ipython3",
   "version": "3.9.13"
  }
 },
 "nbformat": 4,
 "nbformat_minor": 2
}
