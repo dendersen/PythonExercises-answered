{
 "cells": [
  {
   "cell_type": "markdown",
   "metadata": {},
   "source": [
    "# opg 16"
   ]
  },
  {
   "cell_type": "code",
   "execution_count": null,
   "metadata": {},
   "outputs": [],
   "source": [
    "def palindrome(text:str) -> bool:\n",
    "  text = text.lower()\n",
    "  for i in range(len(text)/2):\n",
    "    if text[i] != text[-i-1]:\n",
    "      return False\n",
    "  return True"
   ]
  },
  {
   "cell_type": "markdown",
   "metadata": {},
   "source": [
    "# opg 17"
   ]
  },
  {
   "cell_type": "code",
   "execution_count": null,
   "metadata": {},
   "outputs": [],
   "source": [
    "def solveFunc(a: float, b: float, c: float) -> float:\n",
    "  return (c-b)/a"
   ]
  },
  {
   "cell_type": "markdown",
   "metadata": {},
   "source": [
    "# opg 18"
   ]
  },
  {
   "cell_type": "code",
   "execution_count": 4,
   "metadata": {},
   "outputs": [],
   "source": [
    "import random\n",
    "numbers = [random.randint(0, 100) for i in range(100)]\n",
    "\n",
    "def sortList(numbers: list) -> list:\n",
    "  return sorted(numbers)\n",
    "\n",
    "def swap(numbers: list, i: int, j: int) -> list:\n",
    "  (numbers[i], numbers[j]) = (numbers[j], numbers[i])\n",
    "  return numbers\n",
    "\n",
    "def addElement(numbers: list, element: int = None) -> list:\n",
    "  if(element == None):\n",
    "    while(True):\n",
    "      try:\n",
    "        element = int(input(\"Enter the element to add: \"))\n",
    "        break\n",
    "      except:\n",
    "        print(\"Invalid input\")\n",
    "  numbers.append(element)\n",
    "  return numbers"
   ]
  },
  {
   "cell_type": "markdown",
   "metadata": {},
   "source": [
    "# opg 19"
   ]
  },
  {
   "cell_type": "code",
   "execution_count": 1,
   "metadata": {},
   "outputs": [],
   "source": [
    "def stringWork(text: str) -> list[int,tuple[str,int],list[tuple[str, int]]]:\n",
    "  # if(len(text.split(\" \")) < 100): \n",
    "  #   return NULL \n",
    "  out:list[int,tuple[str,int],list[tuple[str, int]]] = []\n",
    "  out.append(0)\n",
    "  for i in text:\n",
    "    if i == \".\":\n",
    "      out[0] += 1\n",
    "  words:list[str] = []\n",
    "  appearances:list[int] = []\n",
    "  for i in text.split(\" \"):\n",
    "    if words.count(i) == 0:\n",
    "      words.append(i)\n",
    "      appearances.append(1)\n",
    "    else:\n",
    "      appearances[words.index(i)] += 1\n",
    "  out.append((words[0], appearances[0]))\n",
    "  for i in range(1,len(words)):\n",
    "    if(appearances[i] > out[1][1]):\n",
    "      out[1] = (words[i], appearances[i])\n",
    "  out.append([*zip(words, appearances)])\n",
    "  return out"
   ]
  },
  {
   "cell_type": "markdown",
   "metadata": {},
   "source": [
    "# opg 20"
   ]
  },
  {
   "cell_type": "code",
   "execution_count": 20,
   "metadata": {},
   "outputs": [
    {
     "name": "stdout",
     "output_type": "stream",
     "text": [
      "[7, 14, 17, 28, 30, 31, 38]\n"
     ]
    }
   ],
   "source": [
    "import random\n",
    "def lottoNumber(used:list[int] = [],min:int = 1, max:int = 40) -> int:\n",
    "  number = random.randint(min, max)\n",
    "  while(used.count(number) != 0):\n",
    "    number = random.randint(min, max)\n",
    "  return number\n",
    "\n",
    "def lottoNumbers(count:int = 7,min = 1, max = 40) -> list[int]:\n",
    "  numbers = []\n",
    "  for i in range(count):\n",
    "    numbers.append(lottoNumber(numbers,min,max))\n",
    "  numbers.sort()\n",
    "  return numbers\n",
    "\n",
    "print(lottoNumbers())"
   ]
  }
 ],
 "metadata": {
  "kernelspec": {
   "display_name": "base",
   "language": "python",
   "name": "python3"
  },
  "language_info": {
   "codemirror_mode": {
    "name": "ipython",
    "version": 3
   },
   "file_extension": ".py",
   "mimetype": "text/x-python",
   "name": "python",
   "nbconvert_exporter": "python",
   "pygments_lexer": "ipython3",
   "version": "3.9.13"
  }
 },
 "nbformat": 4,
 "nbformat_minor": 2
}
